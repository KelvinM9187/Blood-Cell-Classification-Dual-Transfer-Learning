{
  "nbformat": 4,
  "nbformat_minor": 0,
  "metadata": {
    "colab": {
      "provenance": [],
      "gpuType": "T4",
      "include_colab_link": true
    },
    "kernelspec": {
      "name": "python3",
      "display_name": "Python 3"
    },
    "language_info": {
      "name": "python"
    },
    "accelerator": "GPU"
  },
  "cells": [
    {
      "cell_type": "markdown",
      "metadata": {
        "id": "view-in-github",
        "colab_type": "text"
      },
      "source": [
        "<a href=\"https://colab.research.google.com/github/KelvinM9187/Blood-Cell-Classification-Dual-Transfer-Learning/blob/main/model0001.ipynb\" target=\"_parent\"><img src=\"https://colab.research.google.com/assets/colab-badge.svg\" alt=\"Open In Colab\"/></a>"
      ]
    },
    {
      "cell_type": "code",
      "execution_count": null,
      "metadata": {
        "id": "6SsuiLwUvNHp"
      },
      "outputs": [],
      "source": [
        "# Import necessary libraries\n",
        "import os\n",
        "import numpy as np\n",
        "import torch\n",
        "import torch.nn as nn\n",
        "import torch.nn.functional as F\n",
        "import torch.optim as optim\n",
        "from torch.utils.data import DataLoader, Dataset, WeightedRandomSampler\n",
        "from torchvision import models, transforms\n",
        "from PIL import Image\n",
        "import cv2\n",
        "from google.colab import drive\n",
        "import matplotlib.pyplot as plt\n",
        "from tqdm import tqdm\n",
        "from sklearn.metrics import classification_report, confusion_matrix\n",
        "import seaborn as sns"
      ]
    },
    {
      "cell_type": "code",
      "source": [
        "# Mount Google Drive\n",
        "drive.mount('/content/drive')"
      ],
      "metadata": {
        "colab": {
          "base_uri": "https://localhost:8080/"
        },
        "id": "8E_96mfmvnex",
        "outputId": "3baa4c0d-1df7-4d17-bf8e-53e5e8b8a3a2"
      },
      "execution_count": null,
      "outputs": [
        {
          "output_type": "stream",
          "name": "stdout",
          "text": [
            "Mounted at /content/drive\n"
          ]
        }
      ]
    },
    {
      "cell_type": "code",
      "source": [
        "# Define dataset paths\n",
        "DATASET_PATH = '/content/drive/MyDrive/DATASET/images'\n",
        "TRAIN_DIR = os.path.join(DATASET_PATH, 'TRAIN')\n",
        "TEST_DIR = os.path.join(DATASET_PATH, 'TEST')\n",
        "CHECKPOINT_DIR = '/content/drive/MyDrive/checkpoints'\n",
        "os.makedirs(CHECKPOINT_DIR, exist_ok=True)"
      ],
      "metadata": {
        "id": "V3tBzhO-v85f"
      },
      "execution_count": null,
      "outputs": []
    },
    {
      "cell_type": "code",
      "source": [
        "# Define classes\n",
        "CLASSES = ['EOSINOPHIL', 'LYMPHOCYTE', 'MONOCYTE', 'NEUTROPHIL']\n",
        "NUM_CLASSES = len(CLASSES)\n",
        "class_to_idx = {cls: idx for idx, cls in enumerate(CLASSES)}\n"
      ],
      "metadata": {
        "id": "q49Lfud4wGCj"
      },
      "execution_count": null,
      "outputs": []
    },
    {
      "cell_type": "code",
      "source": [
        "# Gamma correction function\n",
        "def adjust_gamma(image, gamma=1.0):\n",
        "    invGamma = 1.0 / gamma\n",
        "    table = np.array([((i / 255.0) ** invGamma) * 255 for i in np.arange(0, 256)]).astype(\"uint8\")\n",
        "    return cv2.LUT(image, table)"
      ],
      "metadata": {
        "id": "zJ6Wh3BJwJiM"
      },
      "execution_count": null,
      "outputs": []
    },
    {
      "cell_type": "code",
      "source": [
        "\n",
        "# Custom Dataset with preprocessing\n",
        "class BCCDDataset(Dataset):\n",
        "    def __init__(self, root_dir, transform=None):\n",
        "        self.root_dir = root_dir\n",
        "        self.transform = transform\n",
        "        self.images = []\n",
        "        self.labels = []\n",
        "\n",
        "        for cls in CLASSES:\n",
        "            cls_dir = os.path.join(root_dir, cls)\n",
        "            for img_name in os.listdir(cls_dir):\n",
        "                if img_name.endswith('.jpeg'):\n",
        "                    self.images.append(os.path.join(cls_dir, img_name))\n",
        "                    self.labels.append(class_to_idx[cls])\n",
        "\n",
        "    def __len__(self):\n",
        "        return len(self.images)\n",
        "\n",
        "    def __getitem__(self, idx):\n",
        "        img_path = self.images[idx]\n",
        "        label = self.labels[idx]\n",
        "\n",
        "        img = cv2.imread(img_path)\n",
        "        img = cv2.cvtColor(img, cv2.COLOR_BGR2RGB)\n",
        "\n",
        "        img_lab = cv2.cvtColor(img, cv2.COLOR_RGB2LAB)\n",
        "        l, a, b = cv2.split(img_lab)\n",
        "        clahe = cv2.createCLAHE(clipLimit=3.0, tileGridSize=(16, 16))\n",
        "        l = clahe.apply(l)\n",
        "        img = cv2.merge((l, a, b))\n",
        "        img = cv2.cvtColor(img, cv2.COLOR_LAB2RGB)\n",
        "\n",
        "        img = adjust_gamma(img, gamma=0.8)\n",
        "        img = Image.fromarray(img)\n",
        "\n",
        "        if self.transform:\n",
        "            img = self.transform(img)\n",
        "        return img, label"
      ],
      "metadata": {
        "id": "-o-cgf2vwM3M"
      },
      "execution_count": null,
      "outputs": []
    },
    {
      "cell_type": "code",
      "source": [
        "# Transforms\n",
        "train_transform = transforms.Compose([\n",
        "    transforms.Resize((256, 256)),\n",
        "    transforms.RandomCrop(224),\n",
        "    transforms.RandomHorizontalFlip(p=0.5),\n",
        "    transforms.RandomVerticalFlip(p=0.2),\n",
        "    transforms.RandomRotation(30),\n",
        "    transforms.ColorJitter(brightness=0.2, contrast=0.2, saturation=0.2, hue=0.1),\n",
        "    transforms.RandomAffine(degrees=0, translate=(0.1, 0.1)),\n",
        "    transforms.RandomPerspective(distortion_scale=0.2, p=0.2),\n",
        "    transforms.GaussianBlur(kernel_size=3, sigma=(0.1, 0.5)),\n",
        "    transforms.ToTensor(),\n",
        "    transforms.Normalize(mean=[0.485, 0.456, 0.406], std=[0.229, 0.224, 0.225]),\n",
        "    transforms.RandomErasing(p=0.2, scale=(0.02, 0.1))\n",
        "])\n",
        "\n",
        "test_transform = transforms.Compose([\n",
        "    transforms.Resize((224, 224)),\n",
        "    transforms.ToTensor(),\n",
        "    transforms.Normalize(mean=[0.485, 0.456, 0.406], std=[0.229, 0.224, 0.225])\n",
        "])\n"
      ],
      "metadata": {
        "id": "fUXp5YFywaxh"
      },
      "execution_count": null,
      "outputs": []
    },
    {
      "cell_type": "code",
      "source": [
        "# Load datasets\n",
        "train_dataset = BCCDDataset(TRAIN_DIR, transform=train_transform)\n",
        "test_dataset = BCCDDataset(TEST_DIR, transform=test_transform)"
      ],
      "metadata": {
        "id": "lCn0PM2gwm0V"
      },
      "execution_count": null,
      "outputs": []
    },
    {
      "cell_type": "code",
      "source": [
        "# Device setup\n",
        "device = torch.device('cuda' if torch.cuda.is_available() else 'cpu')\n",
        "\n",
        "# Class weights and sampler\n",
        "class_counts = [2497, 2483, 2478, 2499]\n",
        "total_samples = sum(class_counts)\n",
        "class_weights = [total_samples / (NUM_CLASSES * count) for count in class_counts]\n",
        "class_weights_tensor = torch.tensor(class_weights).float().to(device)\n",
        "\n",
        "labels = train_dataset.labels\n",
        "weights = [class_weights_tensor[label] for label in labels]\n",
        "sampler = WeightedRandomSampler(weights, len(weights), replacement=True)"
      ],
      "metadata": {
        "id": "WQ9rsteIw1nZ"
      },
      "execution_count": null,
      "outputs": []
    },
    {
      "cell_type": "code",
      "source": [
        "# Data loader\n",
        "train_loader = DataLoader(train_dataset, batch_size=32, sampler=sampler, num_workers=2, pin_memory=True, persistent_workers=True)\n",
        "test_loader = DataLoader(test_dataset, batch_size=32, shuffle=False, num_workers=2, pin_memory=True, persistent_workers=True)"
      ],
      "metadata": {
        "id": "us4Do0xlw34W"
      },
      "execution_count": null,
      "outputs": []
    },
    {
      "cell_type": "code",
      "source": [
        "# Focal Loss with label smoothing\n",
        "class FocalLoss(nn.Module):\n",
        "    def __init__(self, gamma=2.0, alpha=None, smoothing=0.1):\n",
        "        super(FocalLoss, self).__init__()\n",
        "        self.gamma = gamma\n",
        "        self.alpha = alpha\n",
        "        self.smoothing = smoothing\n",
        "\n",
        "    def forward(self, inputs, targets):\n",
        "        num_classes = inputs.size(-1)\n",
        "        log_preds = F.log_softmax(inputs, dim=-1)\n",
        "\n",
        "        if self.smoothing > 0:\n",
        "            with torch.no_grad():\n",
        "                true_dist = torch.zeros_like(log_preds)\n",
        "                true_dist.fill_(self.smoothing / (num_classes - 1))\n",
        "                true_dist.scatter_(1, targets.unsqueeze(1), 1.0 - self.smoothing)\n",
        "            targets = true_dist\n",
        "\n",
        "        ce_loss = -(targets * log_preds).sum(dim=-1)\n",
        "        pt = torch.exp(-ce_loss)\n",
        "        focal_loss = ((1 - pt) ** self.gamma) * ce_loss\n",
        "\n",
        "        if self.alpha is not None:\n",
        "            focal_loss *= self.alpha[targets.argmax(dim=1)]\n",
        "\n",
        "        return focal_loss.mean()"
      ],
      "metadata": {
        "id": "qFeuvzbfw_4W"
      },
      "execution_count": null,
      "outputs": []
    },
    {
      "cell_type": "code",
      "source": [
        "# Model definition\n",
        "class BloodCellClassifier(nn.Module):\n",
        "    def __init__(self, num_classes=4):\n",
        "        super(BloodCellClassifier, self).__init__()\n",
        "        self.resnet50 = models.resnet50(weights=models.ResNet50_Weights.DEFAULT)\n",
        "        self.resnet50 = nn.Sequential(*list(self.resnet50.children())[:-2])\n",
        "        self.efficientnet = models.efficientnet_b0(weights=models.EfficientNet_B0_Weights.DEFAULT)\n",
        "        self.efficientnet = nn.Sequential(*list(self.efficientnet.children())[:-2])\n",
        "\n",
        "        self.attention = nn.Sequential(\n",
        "            nn.Conv2d(2048 + 1280, 512, kernel_size=1),\n",
        "            nn.ReLU(),\n",
        "            nn.Conv2d(512, 1, kernel_size=1),\n",
        "            nn.Sigmoid()\n",
        "        )\n",
        "\n",
        "        self.classifier = nn.Sequential(\n",
        "            nn.AdaptiveAvgPool2d(1),\n",
        "            nn.Flatten(),\n",
        "            nn.Linear(2048 + 1280, 1024),\n",
        "            nn.BatchNorm1d(1024),\n",
        "            nn.ReLU(),\n",
        "            nn.Dropout(0.5),\n",
        "            nn.Linear(1024, 512),\n",
        "            nn.BatchNorm1d(512),\n",
        "            nn.ReLU(),\n",
        "            nn.Dropout(0.3),\n",
        "            nn.Linear(512, num_classes)\n",
        "        )\n",
        "        self._initialize_weights()\n",
        "\n",
        "\n",
        "    def _initialize_weights(self):\n",
        "        for m in self.modules():\n",
        "            if isinstance(m, nn.Conv2d):\n",
        "                nn.init.kaiming_normal_(m.weight, mode='fan_out', nonlinearity='relu')\n",
        "                if m.bias is not None:\n",
        "                    nn.init.constant_(m.bias, 0)\n",
        "            elif isinstance(m, nn.Linear):\n",
        "                nn.init.normal_(m.weight, 0, 0.01)\n",
        "                nn.init.constant_(m.bias, 0)\n",
        "\n",
        "    def forward(self, x):\n",
        "        resnet_features = self.resnet50(x)\n",
        "        efficientnet_features = self.efficientnet(x)\n",
        "        efficientnet_features = F.interpolate(efficientnet_features, size=resnet_features.shape[2:], mode='bilinear', align_corners=False)\n",
        "        fused_features = torch.cat((resnet_features, efficientnet_features), dim=1)\n",
        "        attention_mask = self.attention(fused_features)\n",
        "        attended_features = fused_features * attention_mask\n",
        "        out = self.classifier(attended_features)\n",
        "        return out"
      ],
      "metadata": {
        "id": "JufDVSVaxHad"
      },
      "execution_count": null,
      "outputs": []
    },
    {
      "cell_type": "code",
      "source": [
        "# Instantiate model\n",
        "model = BloodCellClassifier(num_classes=NUM_CLASSES).to(device)\n",
        "\n",
        "# Optimizer and scheduler\n",
        "optimizer = optim.AdamW(model.parameters(), lr=1e-4, weight_decay=1e-4)\n",
        "\n",
        "def lr_lambda(epoch):\n",
        "    warmup_epochs = 5\n",
        "    return (epoch + 1) / warmup_epochs if epoch < warmup_epochs else 0.95 ** (epoch - warmup_epochs)\n",
        "\n",
        "scheduler = optim.lr_scheduler.LambdaLR(optimizer, lr_lambda)"
      ],
      "metadata": {
        "colab": {
          "base_uri": "https://localhost:8080/"
        },
        "id": "W4UMNRAnxUUq",
        "outputId": "a64b3946-4daa-418a-8132-082681a4c830"
      },
      "execution_count": null,
      "outputs": [
        {
          "output_type": "stream",
          "name": "stderr",
          "text": [
            "Downloading: \"https://download.pytorch.org/models/resnet50-11ad3fa6.pth\" to /root/.cache/torch/hub/checkpoints/resnet50-11ad3fa6.pth\n",
            "100%|██████████| 97.8M/97.8M [00:00<00:00, 114MB/s]\n",
            "Downloading: \"https://download.pytorch.org/models/efficientnet_b0_rwightman-7f5810bc.pth\" to /root/.cache/torch/hub/checkpoints/efficientnet_b0_rwightman-7f5810bc.pth\n",
            "100%|██████████| 20.5M/20.5M [00:00<00:00, 75.6MB/s]\n"
          ]
        }
      ]
    },
    {
      "cell_type": "code",
      "source": [
        "# Checkpoint functions\n",
        "def save_checkpoint(epoch, model, optimizer, loss, acc, train_losses, train_accs, test_losses, test_accs, filename):\n",
        "    checkpoint = {\n",
        "        'epoch': epoch,\n",
        "        'model_state_dict': model.state_dict(),\n",
        "        'optimizer_state_dict': optimizer.state_dict(),\n",
        "        'loss': loss,\n",
        "        'acc': acc,\n",
        "        'train_losses': train_losses,\n",
        "        'train_accs': train_accs,\n",
        "        'test_losses': test_losses,\n",
        "        'test_accs': test_accs\n",
        "    }\n",
        "    torch.save(checkpoint, os.path.join(CHECKPOINT_DIR, filename))\n",
        "\n",
        "def load_checkpoint(filename, model, optimizer):\n",
        "    checkpoint = torch.load(os.path.join(CHECKPOINT_DIR, filename))\n",
        "    model.load_state_dict(checkpoint['model_state_dict'])\n",
        "    optimizer.load_state_dict(checkpoint['optimizer_state_dict'])\n",
        "    return (\n",
        "        checkpoint['epoch'],\n",
        "        checkpoint['loss'],\n",
        "        checkpoint.get('acc', 0.0),\n",
        "        checkpoint.get('train_losses', []),\n",
        "        checkpoint.get('train_accs', []),\n",
        "        checkpoint.get('test_losses', []),\n",
        "        checkpoint.get('test_accs', [])\n",
        "    )\n",
        "\n",
        "start_epoch = 0\n",
        "train_losses, train_accs, test_losses, test_accs = [], [], [], []\n",
        "\n",
        "if os.path.exists(os.path.join(CHECKPOINT_DIR, 'checkpoint.pth')):\n",
        "    print(\"Resuming from checkpoint...\")\n",
        "    start_epoch, _, _, train_losses, train_accs, test_losses, test_accs = load_checkpoint('checkpoint.pth', model, optimizer)\n",
        "    start_epoch += 1"
      ],
      "metadata": {
        "id": "HUx9scXHxcuu",
        "colab": {
          "base_uri": "https://localhost:8080/"
        },
        "outputId": "2dab4a68-b46c-4f34-fccb-f3cd0e7747fb"
      },
      "execution_count": null,
      "outputs": [
        {
          "output_type": "stream",
          "name": "stdout",
          "text": [
            "Resuming from checkpoint...\n"
          ]
        }
      ]
    },
    {
      "cell_type": "code",
      "source": [
        "# Loss function\n",
        "criterion = FocalLoss(gamma=2.0, alpha=class_weights_tensor, smoothing=0.1)"
      ],
      "metadata": {
        "id": "tDRIAVm0xn74"
      },
      "execution_count": null,
      "outputs": []
    },
    {
      "cell_type": "code",
      "source": [
        "def train_eval_model(model, train_loader, test_loader, criterion, optimizer, scheduler, num_epochs=50, start_epoch=0, train_losses=None, train_accs=None, test_losses=None, test_accs=None):\n",
        "    if train_losses is None:\n",
        "        train_losses = []\n",
        "    if train_accs is None:\n",
        "        train_accs = []\n",
        "    if test_losses is None:\n",
        "        test_losses = []\n",
        "    if test_accs is None:\n",
        "        test_accs = []\n",
        "\n",
        "    best_acc = 0.0\n",
        "\n",
        "    for epoch in range(start_epoch, num_epochs):\n",
        "        model.train()\n",
        "        running_loss, running_corrects = 0.0, 0\n",
        "\n",
        "        print(f'\\nEpoch {epoch+1}/{num_epochs}')\n",
        "        for inputs, labels in tqdm(train_loader):\n",
        "            inputs, labels = inputs.to(device), labels.to(device)\n",
        "            optimizer.zero_grad()\n",
        "\n",
        "            outputs = model(inputs)\n",
        "            loss = criterion(outputs, labels)\n",
        "            loss.backward()\n",
        "            optimizer.step()\n",
        "\n",
        "            preds = torch.argmax(outputs, 1)\n",
        "            running_loss += loss.item() * inputs.size(0)\n",
        "            running_corrects += torch.sum(preds == labels.data)\n",
        "\n",
        "        epoch_loss = running_loss / len(train_loader.dataset)\n",
        "        epoch_acc = running_corrects.double() / len(train_loader.dataset)\n",
        "\n",
        "        train_losses.append(epoch_loss)\n",
        "        train_accs.append(epoch_acc.item())\n",
        "\n",
        "        scheduler.step()\n",
        "\n",
        "        model.eval()\n",
        "        test_loss, test_corrects = 0.0, 0\n",
        "        all_preds, all_labels = [], []\n",
        "\n",
        "        with torch.no_grad():\n",
        "            for inputs, labels in test_loader:\n",
        "                inputs, labels = inputs.to(device), labels.to(device)\n",
        "                outputs = model(inputs)\n",
        "                loss = criterion(outputs, labels)\n",
        "\n",
        "                preds = torch.argmax(outputs, 1)\n",
        "                test_loss += loss.item() * inputs.size(0)\n",
        "                test_corrects += torch.sum(preds == labels.data)\n",
        "                all_preds.extend(preds.cpu().numpy())\n",
        "                all_labels.extend(labels.cpu().numpy())\n",
        "\n",
        "        epoch_test_loss = test_loss / len(test_loader.dataset)\n",
        "        epoch_test_acc = test_corrects.double() / len(test_loader.dataset)\n",
        "\n",
        "        test_losses.append(epoch_test_loss)\n",
        "        test_accs.append(epoch_test_acc.item())\n",
        "\n",
        "        print(f'Train Loss: {epoch_loss:.4f}, Acc: {epoch_acc:.4f} | Test Loss: {epoch_test_loss:.4f}, Acc: {epoch_test_acc:.4f}')\n",
        "\n",
        "        # Save best and current checkpoints\n",
        "        if epoch_test_acc > best_acc:\n",
        "            best_acc = epoch_test_acc\n",
        "            save_checkpoint(epoch, model, optimizer, epoch_test_loss, epoch_test_acc.item(), train_losses, train_accs, test_losses, test_accs, 'best_model.pth')\n",
        "\n",
        "        save_checkpoint(epoch, model, optimizer, epoch_test_loss, epoch_test_acc.item(), train_losses, train_accs, test_losses, test_accs, 'checkpoint.pth')\n",
        "\n",
        "    return train_losses, train_accs, test_losses, test_accs"
      ],
      "metadata": {
        "id": "sS3nCs_8x3OZ"
      },
      "execution_count": null,
      "outputs": []
    },
    {
      "cell_type": "code",
      "source": [
        "def plot_results(train_losses, train_accs, test_losses, test_accs):\n",
        "    epochs = range(1, len(train_losses) + 1)\n",
        "    plt.figure(figsize=(12, 5))\n",
        "    plt.subplot(1, 2, 1)\n",
        "    plt.plot(epochs, train_losses, 'b-', label='Train Loss')\n",
        "    plt.plot(epochs, test_losses, 'r-', label='Test Loss')\n",
        "    plt.title('Loss per Epoch')\n",
        "    plt.xlabel('Epoch')\n",
        "    plt.ylabel('Loss')\n",
        "    plt.legend()\n",
        "\n",
        "    plt.subplot(1, 2, 2)\n",
        "    plt.plot(epochs, train_accs, 'b-', label='Train Accuracy')\n",
        "    plt.plot(epochs, test_accs, 'r-', label='Test Accuracy')\n",
        "    plt.title('Accuracy per Epoch')\n",
        "    plt.xlabel('Epoch')\n",
        "    plt.ylabel('Accuracy')\n",
        "    plt.legend()\n",
        "    plt.tight_layout()\n",
        "    plt.show()"
      ],
      "metadata": {
        "id": "eRCBUz8wyFGO"
      },
      "execution_count": null,
      "outputs": []
    },
    {
      "cell_type": "code",
      "source": [
        "def evaluate_model(model, test_loader):\n",
        "    model.eval()\n",
        "    all_preds, all_labels = [], []\n",
        "\n",
        "    with torch.no_grad():\n",
        "        for inputs, labels in test_loader:\n",
        "            inputs, labels = inputs.to(device), labels.to(device)\n",
        "            outputs = model(inputs)\n",
        "            preds = torch.argmax(outputs, 1)\n",
        "            all_preds.extend(preds.cpu().numpy())\n",
        "            all_labels.extend(labels.cpu().numpy())\n",
        "\n",
        "    print(\"\\nClassification Report:\\n\")\n",
        "    print(classification_report(all_labels, all_preds, target_names=CLASSES))\n",
        "\n",
        "    cm = confusion_matrix(all_labels, all_preds)\n",
        "    plt.figure(figsize=(8, 6))\n",
        "    sns.heatmap(cm, annot=True, fmt='d', cmap='Blues', xticklabels=CLASSES, yticklabels=CLASSES)\n",
        "    plt.xlabel('Predicted')\n",
        "    plt.ylabel('Actual')\n",
        "    plt.title('Confusion Matrix')\n",
        "    plt.show()"
      ],
      "metadata": {
        "id": "MBFlQv3VyOdo"
      },
      "execution_count": null,
      "outputs": []
    },
    {
      "cell_type": "code",
      "source": [
        "# Train model\n",
        "train_losses, train_accs, test_losses, test_accs = train_eval_model(\n",
        "    model, train_loader, test_loader, criterion, optimizer, scheduler,\n",
        "    num_epochs=50, start_epoch=start_epoch,\n",
        "    train_losses=train_losses, train_accs=train_accs,\n",
        "    test_losses=test_losses, test_accs=test_accs\n",
        ")\n",
        "\n",
        "# Plot training and test metrics\n",
        "plot_results(train_losses, train_accs, test_losses, test_accs)\n",
        "\n",
        "# Load best model and evaluate\n",
        "load_checkpoint('best_model.pth', model, optimizer)\n",
        "evaluate_model(model, test_loader)"
      ],
      "metadata": {
        "colab": {
          "base_uri": "https://localhost:8080/",
          "height": 1000
        },
        "id": "5IeYAZWEyU6n",
        "outputId": "cf65afec-e0a1-438f-b3f3-248245bd29b1"
      },
      "execution_count": 19,
      "outputs": [
        {
          "metadata": {
            "tags": null
          },
          "name": "stdout",
          "output_type": "stream",
          "text": [
            "\n",
            "Epoch 15/50\n"
          ]
        },
        {
          "metadata": {
            "tags": null
          },
          "name": "stderr",
          "output_type": "stream",
          "text": [
            "100%|██████████| 312/312 [20:43<00:00,  3.99s/it]\n"
          ]
        },
        {
          "metadata": {
            "tags": null
          },
          "name": "stdout",
          "output_type": "stream",
          "text": [
            "Train Loss: 0.3454, Acc: 0.7378 | Test Loss: 0.7077, Acc: 0.5549\n",
            "\n",
            "Epoch 16/50\n"
          ]
        },
        {
          "metadata": {
            "tags": null
          },
          "name": "stderr",
          "output_type": "stream",
          "text": [
            "100%|██████████| 312/312 [09:02<00:00,  1.74s/it]\n"
          ]
        },
        {
          "metadata": {
            "tags": null
          },
          "name": "stdout",
          "output_type": "stream",
          "text": [
            "Train Loss: 0.3124, Acc: 0.7741 | Test Loss: 0.3981, Acc: 0.7008\n",
            "\n",
            "Epoch 17/50\n"
          ]
        },
        {
          "metadata": {
            "tags": null
          },
          "name": "stderr",
          "output_type": "stream",
          "text": [
            "100%|██████████| 312/312 [05:30<00:00,  1.06s/it]\n"
          ]
        },
        {
          "metadata": {
            "tags": null
          },
          "name": "stdout",
          "output_type": "stream",
          "text": [
            "Train Loss: 0.3075, Acc: 0.7799 | Test Loss: 0.4733, Acc: 0.6848\n",
            "\n",
            "Epoch 18/50\n"
          ]
        },
        {
          "metadata": {
            "tags": null
          },
          "name": "stderr",
          "output_type": "stream",
          "text": [
            "100%|██████████| 312/312 [04:12<00:00,  1.23it/s]\n"
          ]
        },
        {
          "metadata": {
            "tags": null
          },
          "name": "stdout",
          "output_type": "stream",
          "text": [
            "Train Loss: 0.2828, Acc: 0.8051 | Test Loss: 0.2019, Acc: 0.8669\n",
            "\n",
            "Epoch 19/50\n"
          ]
        },
        {
          "metadata": {
            "tags": null
          },
          "name": "stderr",
          "output_type": "stream",
          "text": [
            "100%|██████████| 312/312 [04:04<00:00,  1.28it/s]\n"
          ]
        },
        {
          "metadata": {
            "tags": null
          },
          "name": "stdout",
          "output_type": "stream",
          "text": [
            "Train Loss: 0.2783, Acc: 0.8086 | Test Loss: 0.2418, Acc: 0.8440\n",
            "\n",
            "Epoch 20/50\n"
          ]
        },
        {
          "metadata": {
            "tags": null
          },
          "name": "stderr",
          "output_type": "stream",
          "text": [
            "100%|██████████| 312/312 [03:51<00:00,  1.35it/s]\n"
          ]
        },
        {
          "metadata": {
            "tags": null
          },
          "name": "stdout",
          "output_type": "stream",
          "text": [
            "Train Loss: 0.2509, Acc: 0.8280 | Test Loss: 0.2250, Acc: 0.8689\n",
            "\n",
            "Epoch 21/50\n"
          ]
        },
        {
          "metadata": {
            "tags": null
          },
          "name": "stderr",
          "output_type": "stream",
          "text": [
            "100%|██████████| 312/312 [03:56<00:00,  1.32it/s]\n"
          ]
        },
        {
          "metadata": {
            "tags": null
          },
          "name": "stdout",
          "output_type": "stream",
          "text": [
            "Train Loss: 0.2309, Acc: 0.8419 | Test Loss: 0.1729, Acc: 0.8910\n",
            "\n",
            "Epoch 22/50\n"
          ]
        },
        {
          "metadata": {
            "tags": null
          },
          "name": "stderr",
          "output_type": "stream",
          "text": [
            "100%|██████████| 312/312 [03:54<00:00,  1.33it/s]\n"
          ]
        },
        {
          "metadata": {
            "tags": null
          },
          "name": "stdout",
          "output_type": "stream",
          "text": [
            "Train Loss: 0.2857, Acc: 0.8051 | Test Loss: 0.1658, Acc: 0.8818\n",
            "\n",
            "Epoch 23/50\n"
          ]
        },
        {
          "metadata": {
            "tags": null
          },
          "name": "stderr",
          "output_type": "stream",
          "text": [
            "100%|██████████| 312/312 [03:46<00:00,  1.38it/s]\n"
          ]
        },
        {
          "metadata": {
            "tags": null
          },
          "name": "stdout",
          "output_type": "stream",
          "text": [
            "Train Loss: 0.2256, Acc: 0.8527 | Test Loss: 0.2441, Acc: 0.8303\n",
            "\n",
            "Epoch 24/50\n"
          ]
        },
        {
          "metadata": {
            "tags": null
          },
          "name": "stderr",
          "output_type": "stream",
          "text": [
            "100%|██████████| 312/312 [03:46<00:00,  1.38it/s]\n"
          ]
        },
        {
          "metadata": {
            "tags": null
          },
          "name": "stdout",
          "output_type": "stream",
          "text": [
            "Train Loss: 0.2037, Acc: 0.8730 | Test Loss: 0.2141, Acc: 0.8701\n",
            "\n",
            "Epoch 25/50\n"
          ]
        },
        {
          "metadata": {
            "tags": null
          },
          "name": "stderr",
          "output_type": "stream",
          "text": [
            "100%|██████████| 312/312 [03:47<00:00,  1.37it/s]\n"
          ]
        },
        {
          "metadata": {
            "tags": null
          },
          "name": "stdout",
          "output_type": "stream",
          "text": [
            "Train Loss: 0.1922, Acc: 0.8812 | Test Loss: 0.1807, Acc: 0.8906\n",
            "\n",
            "Epoch 26/50\n"
          ]
        },
        {
          "metadata": {
            "tags": null
          },
          "name": "stderr",
          "output_type": "stream",
          "text": [
            "100%|██████████| 312/312 [03:47<00:00,  1.37it/s]\n"
          ]
        },
        {
          "metadata": {
            "tags": null
          },
          "name": "stdout",
          "output_type": "stream",
          "text": [
            "Train Loss: 0.1876, Acc: 0.8851 | Test Loss: 0.2267, Acc: 0.8472\n",
            "\n",
            "Epoch 27/50\n"
          ]
        },
        {
          "metadata": {
            "tags": null
          },
          "name": "stderr",
          "output_type": "stream",
          "text": [
            "100%|██████████| 312/312 [03:49<00:00,  1.36it/s]\n"
          ]
        },
        {
          "metadata": {
            "tags": null
          },
          "name": "stdout",
          "output_type": "stream",
          "text": [
            "Train Loss: 0.1842, Acc: 0.8911 | Test Loss: 0.1757, Acc: 0.8910\n",
            "\n",
            "Epoch 28/50\n"
          ]
        },
        {
          "metadata": {
            "tags": null
          },
          "name": "stderr",
          "output_type": "stream",
          "text": [
            "100%|██████████| 312/312 [03:48<00:00,  1.36it/s]\n"
          ]
        },
        {
          "metadata": {
            "tags": null
          },
          "name": "stdout",
          "output_type": "stream",
          "text": [
            "Train Loss: 0.1948, Acc: 0.8815 | Test Loss: 0.2275, Acc: 0.8593\n",
            "\n",
            "Epoch 29/50\n"
          ]
        },
        {
          "metadata": {
            "tags": null
          },
          "name": "stderr",
          "output_type": "stream",
          "text": [
            "100%|██████████| 312/312 [03:49<00:00,  1.36it/s]\n"
          ]
        },
        {
          "metadata": {
            "tags": null
          },
          "name": "stdout",
          "output_type": "stream",
          "text": [
            "Train Loss: 0.1810, Acc: 0.8924 | Test Loss: 0.1761, Acc: 0.8914\n",
            "\n",
            "Epoch 30/50\n"
          ]
        },
        {
          "metadata": {
            "tags": null
          },
          "name": "stderr",
          "output_type": "stream",
          "text": [
            "100%|██████████| 312/312 [03:57<00:00,  1.31it/s]\n"
          ]
        },
        {
          "metadata": {
            "tags": null
          },
          "name": "stdout",
          "output_type": "stream",
          "text": [
            "Train Loss: 0.1762, Acc: 0.8947 | Test Loss: 0.2109, Acc: 0.8733\n",
            "\n",
            "Epoch 31/50\n"
          ]
        },
        {
          "metadata": {
            "tags": null
          },
          "name": "stderr",
          "output_type": "stream",
          "text": [
            "100%|██████████| 312/312 [03:47<00:00,  1.37it/s]\n"
          ]
        },
        {
          "metadata": {
            "tags": null
          },
          "name": "stdout",
          "output_type": "stream",
          "text": [
            "Train Loss: 0.1841, Acc: 0.8848 | Test Loss: 0.2108, Acc: 0.8786\n",
            "\n",
            "Epoch 32/50\n"
          ]
        },
        {
          "metadata": {
            "tags": null
          },
          "name": "stderr",
          "output_type": "stream",
          "text": [
            "100%|██████████| 312/312 [03:47<00:00,  1.37it/s]\n"
          ]
        },
        {
          "metadata": {
            "tags": null
          },
          "name": "stdout",
          "output_type": "stream",
          "text": [
            "Train Loss: 0.1741, Acc: 0.8964 | Test Loss: 0.2126, Acc: 0.8830\n",
            "\n",
            "Epoch 33/50\n"
          ]
        },
        {
          "metadata": {
            "tags": null
          },
          "name": "stderr",
          "output_type": "stream",
          "text": [
            "100%|██████████| 312/312 [03:49<00:00,  1.36it/s]\n"
          ]
        },
        {
          "metadata": {
            "tags": null
          },
          "name": "stdout",
          "output_type": "stream",
          "text": [
            "Train Loss: 0.1518, Acc: 0.9178 | Test Loss: 0.2846, Acc: 0.8372\n",
            "\n",
            "Epoch 34/50\n"
          ]
        },
        {
          "metadata": {
            "tags": null
          },
          "name": "stderr",
          "output_type": "stream",
          "text": [
            "100%|██████████| 312/312 [03:49<00:00,  1.36it/s]\n"
          ]
        },
        {
          "metadata": {
            "tags": null
          },
          "name": "stdout",
          "output_type": "stream",
          "text": [
            "Train Loss: 0.1565, Acc: 0.9151 | Test Loss: 0.2536, Acc: 0.8629\n",
            "\n",
            "Epoch 35/50\n"
          ]
        },
        {
          "output_type": "stream",
          "name": "stderr",
          "text": [
            "100%|██████████| 312/312 [03:47<00:00,  1.37it/s]\n"
          ]
        },
        {
          "output_type": "stream",
          "name": "stdout",
          "text": [
            "Train Loss: 0.1500, Acc: 0.9168 | Test Loss: 0.2492, Acc: 0.8717\n",
            "\n",
            "Epoch 36/50\n"
          ]
        },
        {
          "output_type": "stream",
          "name": "stderr",
          "text": [
            "100%|██████████| 312/312 [03:48<00:00,  1.36it/s]\n"
          ]
        },
        {
          "output_type": "stream",
          "name": "stdout",
          "text": [
            "Train Loss: 0.1485, Acc: 0.9180 | Test Loss: 0.2823, Acc: 0.8693\n",
            "\n",
            "Epoch 37/50\n"
          ]
        },
        {
          "output_type": "stream",
          "name": "stderr",
          "text": [
            "100%|██████████| 312/312 [03:46<00:00,  1.37it/s]\n"
          ]
        },
        {
          "output_type": "stream",
          "name": "stdout",
          "text": [
            "Train Loss: 0.1419, Acc: 0.9263 | Test Loss: 0.3041, Acc: 0.8456\n",
            "\n",
            "Epoch 38/50\n"
          ]
        },
        {
          "output_type": "stream",
          "name": "stderr",
          "text": [
            "100%|██████████| 312/312 [03:46<00:00,  1.38it/s]\n"
          ]
        },
        {
          "output_type": "stream",
          "name": "stdout",
          "text": [
            "Train Loss: 0.1450, Acc: 0.9245 | Test Loss: 0.2168, Acc: 0.8926\n",
            "\n",
            "Epoch 39/50\n"
          ]
        },
        {
          "output_type": "stream",
          "name": "stderr",
          "text": [
            "100%|██████████| 312/312 [03:56<00:00,  1.32it/s]\n"
          ]
        },
        {
          "output_type": "stream",
          "name": "stdout",
          "text": [
            "Train Loss: 0.1438, Acc: 0.9270 | Test Loss: 0.2474, Acc: 0.8826\n",
            "\n",
            "Epoch 40/50\n"
          ]
        },
        {
          "output_type": "stream",
          "name": "stderr",
          "text": [
            "100%|██████████| 312/312 [03:46<00:00,  1.38it/s]\n"
          ]
        },
        {
          "output_type": "stream",
          "name": "stdout",
          "text": [
            "Train Loss: 0.1394, Acc: 0.9267 | Test Loss: 0.2661, Acc: 0.8693\n",
            "\n",
            "Epoch 41/50\n"
          ]
        },
        {
          "output_type": "stream",
          "name": "stderr",
          "text": [
            "100%|██████████| 312/312 [03:46<00:00,  1.37it/s]\n"
          ]
        },
        {
          "output_type": "stream",
          "name": "stdout",
          "text": [
            "Train Loss: 0.1325, Acc: 0.9355 | Test Loss: 0.2586, Acc: 0.8794\n",
            "\n",
            "Epoch 42/50\n"
          ]
        },
        {
          "output_type": "stream",
          "name": "stderr",
          "text": [
            "100%|██████████| 312/312 [03:48<00:00,  1.36it/s]\n"
          ]
        },
        {
          "output_type": "stream",
          "name": "stdout",
          "text": [
            "Train Loss: 0.1297, Acc: 0.9391 | Test Loss: 0.2978, Acc: 0.8798\n",
            "\n",
            "Epoch 43/50\n"
          ]
        },
        {
          "output_type": "stream",
          "name": "stderr",
          "text": [
            "100%|██████████| 312/312 [03:45<00:00,  1.38it/s]\n"
          ]
        },
        {
          "output_type": "stream",
          "name": "stdout",
          "text": [
            "Train Loss: 0.1323, Acc: 0.9350 | Test Loss: 0.1986, Acc: 0.8910\n",
            "\n",
            "Epoch 44/50\n"
          ]
        },
        {
          "output_type": "stream",
          "name": "stderr",
          "text": [
            "100%|██████████| 312/312 [03:46<00:00,  1.38it/s]\n"
          ]
        },
        {
          "output_type": "stream",
          "name": "stdout",
          "text": [
            "Train Loss: 0.1303, Acc: 0.9375 | Test Loss: 0.2675, Acc: 0.8556\n",
            "\n",
            "Epoch 45/50\n"
          ]
        },
        {
          "output_type": "stream",
          "name": "stderr",
          "text": [
            "100%|██████████| 312/312 [03:46<00:00,  1.38it/s]\n"
          ]
        },
        {
          "output_type": "stream",
          "name": "stdout",
          "text": [
            "Train Loss: 0.1254, Acc: 0.9410 | Test Loss: 0.2572, Acc: 0.8733\n",
            "\n",
            "Epoch 46/50\n"
          ]
        },
        {
          "output_type": "stream",
          "name": "stderr",
          "text": [
            "100%|██████████| 312/312 [03:47<00:00,  1.37it/s]\n"
          ]
        },
        {
          "output_type": "stream",
          "name": "stdout",
          "text": [
            "Train Loss: 0.1233, Acc: 0.9428 | Test Loss: 0.1885, Acc: 0.8930\n",
            "\n",
            "Epoch 47/50\n"
          ]
        },
        {
          "output_type": "stream",
          "name": "stderr",
          "text": [
            "100%|██████████| 312/312 [03:54<00:00,  1.33it/s]\n"
          ]
        },
        {
          "output_type": "stream",
          "name": "stdout",
          "text": [
            "Train Loss: 0.1229, Acc: 0.9436 | Test Loss: 0.2878, Acc: 0.8581\n",
            "\n",
            "Epoch 48/50\n"
          ]
        },
        {
          "output_type": "stream",
          "name": "stderr",
          "text": [
            "100%|██████████| 312/312 [03:45<00:00,  1.38it/s]\n"
          ]
        },
        {
          "output_type": "stream",
          "name": "stdout",
          "text": [
            "Train Loss: 0.1186, Acc: 0.9470 | Test Loss: 0.2645, Acc: 0.8701\n",
            "\n",
            "Epoch 49/50\n"
          ]
        },
        {
          "output_type": "stream",
          "name": "stderr",
          "text": [
            "100%|██████████| 312/312 [03:42<00:00,  1.40it/s]\n"
          ]
        },
        {
          "output_type": "stream",
          "name": "stdout",
          "text": [
            "Train Loss: 0.1147, Acc: 0.9509 | Test Loss: 0.2816, Acc: 0.8770\n",
            "\n",
            "Epoch 50/50\n"
          ]
        },
        {
          "output_type": "stream",
          "name": "stderr",
          "text": [
            "100%|██████████| 312/312 [03:44<00:00,  1.39it/s]\n"
          ]
        },
        {
          "output_type": "stream",
          "name": "stdout",
          "text": [
            "Train Loss: 0.1114, Acc: 0.9553 | Test Loss: 0.2957, Acc: 0.8749\n"
          ]
        },
        {
          "output_type": "display_data",
          "data": {
            "text/plain": [
              "<Figure size 1200x500 with 2 Axes>"
            ],
            "image/png": "[encoded data removed]"
          },
          "metadata": {}
        },
        {
          "output_type": "stream",
          "name": "stdout",
          "text": [
            "\n",
            "Classification Report:\n",
            "\n",
            "              precision    recall  f1-score   support\n",
            "\n",
            "  EOSINOPHIL       0.90      0.84      0.87       623\n",
            "  LYMPHOCYTE       0.99      1.00      0.99       620\n",
            "    MONOCYTE       0.99      0.83      0.90       620\n",
            "  NEUTROPHIL       0.74      0.90      0.81       624\n",
            "\n",
            "    accuracy                           0.89      2487\n",
            "   macro avg       0.91      0.89      0.90      2487\n",
            "weighted avg       0.91      0.89      0.90      2487\n",
            "\n"
          ]
        },
        {
          "output_type": "display_data",
          "data": {
            "text/plain": [
              "<Figure size 800x600 with 2 Axes>"
            ],
            "image/png": "[encoded data removed]"
          },
          "metadata": {}
        }
      ]
    }
  ]
}